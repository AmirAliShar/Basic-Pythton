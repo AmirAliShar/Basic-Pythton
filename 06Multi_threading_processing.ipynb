{
 "cells": [
  {
   "cell_type": "code",
   "execution_count": null,
   "id": "1522cc60",
   "metadata": {},
   "outputs": [
    {
     "name": "stdout",
     "output_type": "stream",
     "text": [
      "1\n",
      "4\n",
      "9\n",
      "16\n",
      "total time  0.2007279396057129\n",
      "None\n"
     ]
    }
   ],
   "source": [
    "import time\n",
    "\n",
    "def square():\n",
    "    for i in range(1,5):\n",
    "        start =time.time()\n",
    "        res = i*i\n",
    "        print(res)\n",
    "        time.sleep(0.2)\n",
    "\n",
    "        end = time.time()\n",
    "\n",
    "    print(\"total time \",end - start)\n",
    "print(square())"
   ]
  },
  {
   "cell_type": "code",
   "execution_count": null,
   "id": "018ee583",
   "metadata": {},
   "outputs": [
    {
     "name": "stdout",
     "output_type": "stream",
     "text": [
      "1\n",
      "1\n",
      "4\n",
      "8\n",
      "9\n",
      "27\n",
      "16\n",
      "64\n",
      "total time  0.20066070556640625\n",
      "total time  0.20283961296081543\n"
     ]
    }
   ],
   "source": [
    "# Multi Threading\n",
    "import threading\n",
    "\n",
    "def square():\n",
    "    for i in range(1,5):\n",
    "        start =time.time()\n",
    "        res = i*i\n",
    "        print(res)\n",
    "        time.sleep(0.2)\n",
    "\n",
    "        end = time.time()\n",
    "\n",
    "    print(\"total time \",end - start)\n",
    "def cube():\n",
    "    for i in range(1,5):\n",
    "        start =time.time()\n",
    "        res = i*i*i\n",
    "        print(res)\n",
    "        time.sleep(0.2)\n",
    "\n",
    "        end = time.time()\n",
    "    print(\"total time \",end - start)\n",
    "# print(square())\n",
    "# print(cube())\n",
    "\n",
    "thread1 =threading.Thread(target=square)\n",
    "thread2 =threading.Thread(target=cube)\n",
    "\n",
    "thread1.start()\n",
    "thread2.start()\n",
    "\n",
    "thread1.join() #Wait here untill the thread1 is done \n",
    "thread2.join()"
   ]
  },
  {
   "cell_type": "code",
   "execution_count": null,
   "id": "d639c318",
   "metadata": {},
   "outputs": [
    {
     "name": "stdout",
     "output_type": "stream",
     "text": [
      "Done\n"
     ]
    }
   ],
   "source": [
    "# Multi processing\n",
    "import multiprocessing\n",
    "def square(number):\n",
    "    for n in number:\n",
    "        print(\"Square \",n*n)\n",
    "\n",
    "if __name__== \"__main__\":\n",
    "    \n",
    "    arr =[1,2,3,4,5]\n",
    "    p1=multiprocessing.Process(target =square,args =(arr),)\n",
    "\n",
    "    p1.start()\n",
    "    p1.join()\n",
    "\n",
    "print(\"Done\")"
   ]
  },
  {
   "cell_type": "code",
   "execution_count": null,
   "id": "f1a424de",
   "metadata": {},
   "outputs": [],
   "source": []
  }
 ],
 "metadata": {
  "kernelspec": {
   "display_name": "base",
   "language": "python",
   "name": "python3"
  },
  "language_info": {
   "codemirror_mode": {
    "name": "ipython",
    "version": 3
   },
   "file_extension": ".py",
   "mimetype": "text/x-python",
   "name": "python",
   "nbconvert_exporter": "python",
   "pygments_lexer": "ipython3",
   "version": "3.12.7"
  }
 },
 "nbformat": 4,
 "nbformat_minor": 5
}
