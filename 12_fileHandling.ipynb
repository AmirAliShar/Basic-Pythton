{
 "cells": [
  {
   "cell_type": "code",
   "execution_count": null,
   "id": "beeeaea6",
   "metadata": {},
   "outputs": [],
   "source": [
    "# Create the file\n",
    "f=open(\"filehandlingdemo\",\"w\") # w+ for read and write ,if file not exist it will create\n",
    "f.write(\"this is my first file\")\n",
    "f.write(\"this is my second line\")   \n",
    "f.write(\"this is my third line\")\n",
    "f.close()"
   ]
  },
  {
   "cell_type": "code",
   "execution_count": null,
   "id": "233c65a6",
   "metadata": {},
   "outputs": [
    {
     "name": "stdout",
     "output_type": "stream",
     "text": [
      "this is my first file\n",
      "\n",
      "this is my second line\n",
      "\n",
      "this is my third line\n"
     ]
    }
   ],
   "source": [
    "#Read the file\n",
    "r=open(\"filehandlingdemo\",\"r\") #r+ for read and write\n",
    "for i in r:\n",
    "    print(i)\n",
    "r.close()\n",
    "   \n",
    "\n"
   ]
  },
  {
   "cell_type": "code",
   "execution_count": 17,
   "id": "ba982a86",
   "metadata": {},
   "outputs": [
    {
     "name": "stdout",
     "output_type": "stream",
     "text": [
      "this is my first file\n",
      "\n"
     ]
    }
   ],
   "source": [
    "r=open(\"filehandlingdemo\",\"r\")\n",
    "line = r.readline()\n",
    "print(line)\n"
   ]
  },
  {
   "cell_type": "code",
   "execution_count": 18,
   "id": "b484d7ef",
   "metadata": {},
   "outputs": [],
   "source": [
    "# handle the overwrite use the append mode (a)\n",
    "f=open(\"filehandlingdemo\",\"a\") # w+ for read and write ,if file not exist it will create\n",
    "f.write(\"this is my first file\")\n",
    "f.write(\"\\n this is my second line\")   \n",
    "f.write(\"\\n this is my third line\")\n",
    "f.close()\n"
   ]
  },
  {
   "cell_type": "code",
   "execution_count": null,
   "id": "d9489672",
   "metadata": {},
   "outputs": [],
   "source": [
    "f=open(\"filehandlingdemo\",\"a\") # w+ for read and write ,if file not exist it will create\n",
    "f.writelines([\n",
    "    \"I love python\\n\",\n",
    "    \"I love ML\\n\",\n",
    "    \"I love AI\\n\"])\n",
    "\n",
    "f.close()"
   ]
  },
  {
   "cell_type": "code",
   "execution_count": 22,
   "id": "a52814d3",
   "metadata": {},
   "outputs": [
    {
     "name": "stdout",
     "output_type": "stream",
     "text": [
      "this is my first file\n",
      "\n",
      "this is my second line\n",
      "\n",
      "this is my third line\n",
      "\n",
      "I love python\n",
      "\n",
      "I love ML\n",
      "\n",
      "I love AI\n",
      "\n"
     ]
    }
   ],
   "source": [
    "# Preferred way to open the file\n",
    "with open(\"filehandlingdemo\",\"r\") as f:\n",
    "    for i in f:\n",
    "        print(i)\n"
   ]
  },
  {
   "cell_type": "code",
   "execution_count": null,
   "id": "e49cbba8",
   "metadata": {},
   "outputs": [],
   "source": [
    "import pickle\n",
    "\n",
    "# Save model\n",
    "with open(\"model.pkl\", \"wb\") as file:\n",
    "    pickle.dump(model, file)\n",
    "\n",
    "# Load model\n",
    "with open(\"model.pkl\", \"rb\") as file:\n",
    "    loaded_model = pickle.load(file)\n"
   ]
  }
 ],
 "metadata": {
  "kernelspec": {
   "display_name": "base",
   "language": "python",
   "name": "python3"
  },
  "language_info": {
   "codemirror_mode": {
    "name": "ipython",
    "version": 3
   },
   "file_extension": ".py",
   "mimetype": "text/x-python",
   "name": "python",
   "nbconvert_exporter": "python",
   "pygments_lexer": "ipython3",
   "version": "3.12.7"
  }
 },
 "nbformat": 4,
 "nbformat_minor": 5
}
