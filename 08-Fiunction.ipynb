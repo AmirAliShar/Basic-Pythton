{
 "cells": [
  {
   "cell_type": "markdown",
   "metadata": {},
   "source": [
    "✅ 1. Functions – Reusable blocks of code"
   ]
  },
  {
   "cell_type": "code",
   "execution_count": 1,
   "metadata": {},
   "outputs": [
    {
     "name": "stdout",
     "output_type": "stream",
     "text": [
      "Total sum = 9\n",
      "Total sum = 51\n"
     ]
    }
   ],
   "source": [
    "def sum(a,b):\n",
    "    return a +b\n",
    "n=sum(5,4)\n",
    "print(f\"Total sum = {n}\")\n",
    "b=sum(46,5)\n",
    "print(f\"Total sum = {b}\")"
   ]
  },
  {
   "cell_type": "code",
   "execution_count": 2,
   "metadata": {},
   "outputs": [
    {
     "data": {
      "text/plain": [
       "52.0"
      ]
     },
     "execution_count": 2,
     "metadata": {},
     "output_type": "execute_result"
    }
   ],
   "source": [
    "def accuracy(correct,total):\n",
    "    return correct/total *100\n",
    "accuracy(26,50)\n"
   ]
  },
  {
   "cell_type": "code",
   "execution_count": 26,
   "metadata": {},
   "outputs": [
    {
     "data": {
      "text/plain": [
       "5"
      ]
     },
     "execution_count": 26,
     "metadata": {},
     "output_type": "execute_result"
    }
   ],
   "source": [
    "\n",
    "def cal(a,b,c):\n",
    "    if c==\"+\":\n",
    "        return int(a+b)\n",
    "    elif c==\"-\":\n",
    "        return a-b\n",
    "    elif c==\"*\":\n",
    "        return a*b\n",
    "    elif c==\"/\":\n",
    "        return a/b\n",
    "    else:\n",
    "        print(\"Invalid operator\")\n",
    "\n",
    "cal(2,3 ,\"+\")\n"
   ]
  },
  {
   "cell_type": "code",
   "execution_count": 3,
   "metadata": {},
   "outputs": [
    {
     "name": "stdout",
     "output_type": "stream",
     "text": [
      "9\n"
     ]
    }
   ],
   "source": [
    "square = lambda x : x*x\n",
    "\n",
    "print(square(3))"
   ]
  },
  {
   "cell_type": "code",
   "execution_count": 5,
   "metadata": {},
   "outputs": [
    {
     "name": "stdout",
     "output_type": "stream",
     "text": [
      "9 25 49 81 121 169 225 289 361 441 "
     ]
    }
   ],
   "source": [
    "l = [1,2,3,4,5,6,7,8,9,10]\n",
    "\n",
    "for i in l:\n",
    "    print(square(i+1+i),end=\" \")\n"
   ]
  }
 ],
 "metadata": {
  "kernelspec": {
   "display_name": "base",
   "language": "python",
   "name": "python3"
  },
  "language_info": {
   "codemirror_mode": {
    "name": "ipython",
    "version": 3
   },
   "file_extension": ".py",
   "mimetype": "text/x-python",
   "name": "python",
   "nbconvert_exporter": "python",
   "pygments_lexer": "ipython3",
   "version": "3.12.7"
  }
 },
 "nbformat": 4,
 "nbformat_minor": 2
}
