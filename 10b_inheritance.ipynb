{
 "cells": [
  {
   "cell_type": "code",
   "execution_count": null,
   "id": "da7f9ed3",
   "metadata": {},
   "outputs": [],
   "source": [
    "# Multiple Inheritance\n",
    "class Father:\n",
    "    def skills(self):\n",
    "        print(\"I have writing skills\")\n",
    "        \n",
    "class Mother:\n",
    "    def skills(self):\n",
    "        print(\"I have cooking skills\")\n",
    "\n",
    "class Child(Father,Mother):\n",
    "    def __init__(self):\n",
    "        self.skills()\n",
    "\n",
    "        \n",
    "    def skills(self):\n",
    "        Father.skills(self)\n",
    "        Mother.skills(self)\n",
    "        print(\"I have programming skills\")"
   ]
  },
  {
   "cell_type": "code",
   "execution_count": null,
   "id": "977c775c",
   "metadata": {},
   "outputs": [
    {
     "name": "stdout",
     "output_type": "stream",
     "text": [
      "I have writing skills\n",
      "I have cooking skills\n",
      "I have programming skills\n"
     ]
    }
   ],
   "source": [
    "c= Child()\n",
    "# c.skills() # If call the method in constructor then no need the write or call here\n"
   ]
  },
  {
   "cell_type": "code",
   "execution_count": 17,
   "id": "0c8b67be",
   "metadata": {},
   "outputs": [],
   "source": [
    "class vehicle:\n",
    "    def __init__(self, name, color, price):\n",
    "        self.name = name\n",
    "        self.color = color\n",
    "        self.price = price\n",
    "        self.max_speed()\n",
    "        self.change_gear()\n",
    "\n",
    "    def show(self):\n",
    "        print('Details:', self.name, self.color, self.price)\n",
    "        \n",
    "    def max_speed(self):\n",
    "        print('Vehicle max speed is 150')\n",
    "        \n",
    "    def change_gear(self):\n",
    "        print('Vehicle change 6 gear')\n",
    "class car(vehicle):\n",
    "    def max_speed(self):\n",
    "        print('Car max speed is 240')\n",
    "        \n",
    "    def change_gear(self):\n",
    "        print('Car change 7 gear')\n",
    "\n",
    "class truck(vehicle):\n",
    "    def max_speed(self):\n",
    "\n",
    "        print('Truck max speed is 180')\n",
    "        \n",
    "    def change_gear(self):\n",
    "        print('Truck change 8 gear')"
   ]
  },
  {
   "cell_type": "code",
   "execution_count": 18,
   "id": "09ab714f",
   "metadata": {},
   "outputs": [
    {
     "name": "stdout",
     "output_type": "stream",
     "text": [
      "Truck max speed is 180\n",
      "Truck change 8 gear\n",
      "Details: a Green 23\n"
     ]
    }
   ],
   "source": [
    "t= truck(\"a\",'Green',23)\n",
    "t.show()"
   ]
  }
 ],
 "metadata": {
  "kernelspec": {
   "display_name": "base",
   "language": "python",
   "name": "python3"
  },
  "language_info": {
   "codemirror_mode": {
    "name": "ipython",
    "version": 3
   },
   "file_extension": ".py",
   "mimetype": "text/x-python",
   "name": "python",
   "nbconvert_exporter": "python",
   "pygments_lexer": "ipython3",
   "version": "3.12.7"
  }
 },
 "nbformat": 4,
 "nbformat_minor": 5
}
