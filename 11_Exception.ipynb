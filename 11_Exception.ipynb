{
 "cells": [
  {
   "cell_type": "code",
   "execution_count": 2,
   "metadata": {},
   "outputs": [
    {
     "name": "stdout",
     "output_type": "stream",
     "text": [
      "a\n"
     ]
    }
   ],
   "source": [
    "name=input(\"Enter your name\")\n",
    "try:\n",
    "    print(name)\n",
    "except Exception as e:\n",
    "    print(\"Exception occured \",e)\n",
    "    name=None"
   ]
  },
  {
   "cell_type": "code",
   "execution_count": 4,
   "metadata": {},
   "outputs": [
    {
     "name": "stdout",
     "output_type": "stream",
     "text": [
      "Exception occured  [Errno 2] No such file or directory: 'file.txt'\n",
      "File not found\n"
     ]
    }
   ],
   "source": [
    "# File does not exist error\n",
    "try:\n",
    "    with open(\"file.txt\") as f:\n",
    "        print(f.read())\n",
    "except Exception as e:\n",
    "    print(\"Exception occured \",e)\n",
    "finally:\n",
    "    print(\"File not found\")\n"
   ]
  },
  {
   "cell_type": "code",
   "execution_count": 10,
   "metadata": {},
   "outputs": [
    {
     "name": "stdout",
     "output_type": "stream",
     "text": [
      "this is my first file\n",
      "this is my second line\n",
      "this is my third line\n",
      "I love python\n",
      "I love ML\n",
      "I love AI\n",
      "\n"
     ]
    }
   ],
   "source": [
    "try:\n",
    "    file = open(\"filehandlingdemo\", \"r\")\n",
    "    content = file.read()\n",
    "    print(content)\n",
    "except Exception as e:\n",
    "    print(\"Error reading file.\",e)\n",
    "finally:\n",
    "    file.close()  # Ensures file is always closed\n"
   ]
  }
 ],
 "metadata": {
  "kernelspec": {
   "display_name": "base",
   "language": "python",
   "name": "python3"
  },
  "language_info": {
   "codemirror_mode": {
    "name": "ipython",
    "version": 3
   },
   "file_extension": ".py",
   "mimetype": "text/x-python",
   "name": "python",
   "nbconvert_exporter": "python",
   "pygments_lexer": "ipython3",
   "version": "3.12.7"
  }
 },
 "nbformat": 4,
 "nbformat_minor": 2
}
