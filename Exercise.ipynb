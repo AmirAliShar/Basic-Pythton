{
 "cells": [
  {
   "cell_type": "markdown",
   "id": "51425d40",
   "metadata": {},
   "source": [
    "# List"
   ]
  },
  {
   "cell_type": "code",
   "execution_count": 1,
   "id": "5e026a3a",
   "metadata": {},
   "outputs": [
    {
     "name": "stdout",
     "output_type": "stream",
     "text": [
      "Extra spent in february : 150\n"
     ]
    }
   ],
   "source": [
    "month =[\"January\",\"February\",\"March\",\"April\",\"May\"]\n",
    "expensive=  [2200,2350,2500,2160,3490]\n",
    "\n",
    "#1. In Feb, how many dollars you spent extra compare to January?\n",
    "print(\"Extra spent in february :\",expensive[1] - expensive[0]) \n"
   ]
  },
  {
   "cell_type": "code",
   "execution_count": 2,
   "id": "7cd6cc11",
   "metadata": {},
   "outputs": [
    {
     "name": "stdout",
     "output_type": "stream",
     "text": [
      "In first three month expensive  7050\n"
     ]
    }
   ],
   "source": [
    "#2. Find out your total expense in first quarter (first three months) of the year.\n",
    "print(\"In first three month expensive \",expensive[0]+expensive[1]+expensive[2])"
   ]
  },
  {
   "cell_type": "code",
   "execution_count": 3,
   "id": "7855b3b5",
   "metadata": {},
   "outputs": [
    {
     "name": "stdout",
     "output_type": "stream",
     "text": [
      "Spent in 2k dollar in month  False\n"
     ]
    }
   ],
   "source": [
    "\n",
    "# 3. Find out if you spent exactly 2000 dollars in any month\n",
    "print(\"Spent in 2k dollar in month \", 2000 in expensive)"
   ]
  },
  {
   "cell_type": "code",
   "execution_count": 4,
   "id": "288acae0",
   "metadata": {},
   "outputs": [
    {
     "name": "stdout",
     "output_type": "stream",
     "text": [
      "['January', 'February', 'March', 'April', 'May', 'June']\n",
      "[2200, 2350, 2500, 2160, 3490, 1980]\n"
     ]
    }
   ],
   "source": [
    "#4 June month just finished and your expense is 1980 dollar. Add this item to our monthly expense list\n",
    "month.append(\"June\")\n",
    "expensive.append(1980)\n",
    "\n",
    "print(month)\n",
    "print(expensive)"
   ]
  },
  {
   "cell_type": "code",
   "execution_count": null,
   "id": "b3597ffc",
   "metadata": {},
   "outputs": [
    {
     "name": "stdout",
     "output_type": "stream",
     "text": [
      "1960\n"
     ]
    }
   ],
   "source": [
    "\"\"\"5. You returned an item that you bought in a month of April and\n",
    "got a refund of 200$. Make a correction to your monthly expense list\n",
    "based on this\"\"\"\n",
    "\n",
    "print(expensive[3]-200)"
   ]
  },
  {
   "cell_type": "markdown",
   "id": "b9940232",
   "metadata": {},
   "source": [
    "# Loop"
   ]
  },
  {
   "cell_type": "code",
   "execution_count": 15,
   "id": "86821cba",
   "metadata": {},
   "outputs": [
    {
     "name": "stdout",
     "output_type": "stream",
     "text": [
      "Head is count to be  4\n"
     ]
    }
   ],
   "source": [
    "#After flipping a coin 10 times you got this result,\n",
    "\n",
    "result = [\"heads\",\"tails\",\"tails\",\"heads\",\"tails\",\"heads\",\"heads\",\"tails\",\"tails\",\"tails\"]\n",
    "\n",
    "#Using for loop figure out how many times you got heads\n",
    "count =0\n",
    "for i in result:\n",
    "    if i ==\"heads\":\n",
    "        count +=1\n",
    "print(\"Head is count to be \",count)\n"
   ]
  },
  {
   "cell_type": "code",
   "execution_count": null,
   "id": "48500df2",
   "metadata": {},
   "outputs": [
    {
     "name": "stdout",
     "output_type": "stream",
     "text": [
      "1 9 25 49 81 "
     ]
    }
   ],
   "source": [
    "# Print square of all numbers between 1 to 10 except even numbers\n",
    "for i in range(1,10):\n",
    "    if i %2 == 0:\n",
    "        continue\n",
    "    else:\n",
    "        print(i*i ,end=\" \")"
   ]
  },
  {
   "cell_type": "code",
   "execution_count": 14,
   "id": "b862f2c8",
   "metadata": {},
   "outputs": [
    {
     "name": "stdout",
     "output_type": "stream",
     "text": [
      "*\n",
      "**\n",
      "***\n",
      "****\n",
      "*****\n"
     ]
    }
   ],
   "source": [
    "for i in range(5):\n",
    "    for j in range(i+1):\n",
    "        print(\"*\",end=\"\")\n",
    "    print()"
   ]
  },
  {
   "cell_type": "markdown",
   "id": "a9434a6c",
   "metadata": {},
   "source": [
    "# Dictionary tuple"
   ]
  },
  {
   "cell_type": "code",
   "execution_count": null,
   "id": "5298b1a2",
   "metadata": {},
   "outputs": [
    {
     "name": "stdout",
     "output_type": "stream",
     "text": [
      "china==>143\n",
      "india==>136\n",
      "usa==>32\n",
      "pakistan==>21\n",
      "uk==>3232.0\n"
     ]
    }
   ],
   "source": [
    "population = {\n",
    "    'china': 143,\n",
    "    'india': 136,\n",
    "    'usa': 32,\n",
    "    'pakistan': 21\n",
    "}\n",
    "\n",
    "def add():\n",
    "    country=input(\"Enter country name to add:\")\n",
    "    country=country.lower()\n",
    "    if country in population:\n",
    "        print(\"Country already exist in our dataset. Terminating\")\n",
    "        return\n",
    "    p=input(f\"Enter population for {country}\")\n",
    "    p=float(p)\n",
    "    population[country]=p # Adds new key value pair to dictionary\n",
    "    print_all()\n",
    "\n",
    "def remove():\n",
    "    country = input(\"Enter country name to remove:\")\n",
    "    country = country.lower()\n",
    "    if country not in population:\n",
    "        print(\"Country doesn't exist in our dataset. Terminating\")\n",
    "        return\n",
    "    del population[country]\n",
    "    print_all()\n",
    "\n",
    "def query():\n",
    "    country = input(\"Enter country name to query:\")\n",
    "    country = country.lower()\n",
    "    if country not in population:\n",
    "        print(\"Country doesn't exist in our dataset. Terminating\")\n",
    "        return\n",
    "    print(f\"Population of {country} is: {population[country]} crore\")\n",
    "\n",
    "def print_all():\n",
    "    for country, p in population.items():\n",
    "        print(f\"{country}==>{p}\")\n",
    "\n",
    "def main():\n",
    "    op=input(\"Enter operation (add, remove, query or print):\")\n",
    "    if op.lower() == 'add':\n",
    "        add()\n",
    "    elif op.lower() == 'remove':\n",
    "        remove()\n",
    "    elif op.lower() == 'query':\n",
    "        query()\n",
    "    elif op.lower() == 'print':\n",
    "        print_all()\n",
    "\n",
    "if __name__ == '__main__':\n",
    "    main()"
   ]
  },
  {
   "cell_type": "code",
   "execution_count": null,
   "id": "26dccc5a",
   "metadata": {},
   "outputs": [
    {
     "name": "stdout",
     "output_type": "stream",
     "text": [
      "info ==> [600, 630, 620] ==> avg  616.67\n",
      "ril ==> [1430, 1490, 1567] ==> avg  1495.67\n",
      "mtl ==> [234, 180, 160] ==> avg  191.33\n",
      "clk ==> [1234.0] ==> avg  1234.0\n"
     ]
    }
   ],
   "source": [
    "\"\"\"Write a program that asks user for operation. Value of operations could be,\n",
    "print: When user enters print it should print following,\n",
    "info ==> [600, 630, 620] ==> avg:  616.67\n",
    "ril ==> [1430, 1490, 1567] ==> avg:  1495.67\n",
    "mtl ==> [234, 180, 160] ==> avg:  191.33\n",
    "\n",
    "add: When user enters 'add', it asks for stock ticker and price.\n",
    "If stock already exist in your list (like info, ril etc) then it will append the price to the list.\n",
    " Otherwise it will create new entry in your dictionary.\n",
    "   For  example entering 'tata' and 560 will add tata ==> [560] to the dictionary of stocks.\"\"\"\n",
    "import statistics\n",
    "\n",
    "stocks = {\n",
    "    'info': [600,630,620],\n",
    "    'ril': [1430,1490,1567],\n",
    "    'mtl': [234,180,160]\n",
    "}\n",
    "\n",
    "user = input(\"Enter the add or print\")\n",
    "def add():\n",
    "    st = input(\"Enter the Stock\")\n",
    "    popu=input(\"Enter the population\")\n",
    "    popu=float(popu)\n",
    "\n",
    "    if st.lower() in stocks:\n",
    "        stocks[st].append(popu)\n",
    "    else:\n",
    "        stocks[st]=[popu]\n",
    "\n",
    "    print_all()\n",
    "\n",
    "\n",
    "\n",
    "def print_all():\n",
    "    for stock,price in stocks.items():\n",
    "        average =statistics.mean(price)\n",
    "        print(f\"{stock} ==> {price} ==> avg \",round(average,2))\n",
    "    \n",
    "def main():\n",
    "    if user.lower() == \"add\":\n",
    "        add()\n",
    "    elif user.lower() == 'print':\n",
    "        print_all()\n",
    "\n",
    "if __name__ == '__main__':\n",
    "    main()"
   ]
  },
  {
   "cell_type": "markdown",
   "id": "9d157793",
   "metadata": {},
   "source": [
    "# Function"
   ]
  },
  {
   "cell_type": "code",
   "execution_count": null,
   "id": "75e8e48f",
   "metadata": {},
   "outputs": [
    {
     "name": "stdout",
     "output_type": "stream",
     "text": [
      "The area of square = 12.0\n"
     ]
    }
   ],
   "source": [
    "\"\"\"\"Write a function called calculate_area that\n",
    "takes base and height as an input and returns and\n",
    "area of a triangle.\"\"\"\n",
    "def area(base,height):\n",
    "    area = 0.5*base*height\n",
    "    return area\n",
    "\n",
    "print(\"The area of square =\",area(4,6))\n"
   ]
  },
  {
   "cell_type": "code",
   "execution_count": 73,
   "id": "0a8831b1",
   "metadata": {},
   "outputs": [
    {
     "name": "stdout",
     "output_type": "stream",
     "text": [
      "('The area of square', 12.0)\n"
     ]
    }
   ],
   "source": [
    "\"\"\"\"Modify above function to take third parameter \n",
    "shape type. It can be either \"triangle\" or \"rectangle\".\n",
    "Based on shape type it will calculate area.\"\"\"\n",
    "\n",
    "\n",
    "def area(base,height,shape):\n",
    "    if shape.lower() == \"square\":\n",
    "        square = 0.5*base*height\n",
    "        return \"The area of square\",square\n",
    "    elif shape.lower() == \"rectangle\":\n",
    "        rect = base * height\n",
    "        return \"The area of Rectangle\" , rect\n",
    "    else:\n",
    "        return area\n",
    "\n",
    "print(area(4,6,\"Square\"))"
   ]
  },
  {
   "cell_type": "code",
   "execution_count": 37,
   "id": "33113b8f",
   "metadata": {},
   "outputs": [
    {
     "name": "stdout",
     "output_type": "stream",
     "text": [
      "*\n",
      "**\n",
      "***\n"
     ]
    },
    {
     "data": {
      "text/plain": [
       "<function __main__.print_pattern(n=3)>"
      ]
     },
     "execution_count": 37,
     "metadata": {},
     "output_type": "execute_result"
    }
   ],
   "source": [
    "def print_pattern(n=3):\n",
    "    for i in range(n):\n",
    "        for j in range(i+1):\n",
    "            print(\"*\", end=\"\")\n",
    "        print()\n",
    "    return print_pattern\n",
    "\n",
    "print_pattern() \n",
    "\n"
   ]
  },
  {
   "cell_type": "markdown",
   "id": "28296129",
   "metadata": {},
   "source": [
    "# File Handling"
   ]
  },
  {
   "cell_type": "code",
   "execution_count": 33,
   "id": "c77d4d7b",
   "metadata": {},
   "outputs": [
    {
     "name": "stdout",
     "output_type": "stream",
     "text": [
      "\n",
      " \n",
      " Every word with unique number: \n",
      " \n",
      "{'Two': 2, 'roads': 2, 'diverged': 2, 'in': 3, 'a': 3, 'yellow': 1, 'wood,\\n': 1, 'And': 6, 'sorry': 1, 'I': 8, 'could': 1, 'not': 1, 'travel': 1, 'both\\n': 1, 'be': 2, 'one': 3, 'traveler,': 1, 'long': 1, 'stood\\n': 1, 'looked': 1, 'down': 1, 'as': 5, 'far': 1, 'could\\n': 1, 'To': 1, 'where': 1, 'it': 2, 'bent': 1, 'the': 8, 'undergrowth;\\n': 1, '\\n': 3, 'Then': 1, 'took': 2, 'other,': 1, 'just': 1, 'fair,\\n': 1, 'having': 1, 'perhaps': 1, 'better': 1, 'claim,\\n': 1, 'Because': 1, 'was': 1, 'grassy': 1, 'and': 3, 'wanted': 1, 'wear;\\n': 1, 'Though': 1, 'for': 2, 'that': 3, 'passing': 1, 'there\\n': 1, 'Had': 1, 'worn': 1, 'them': 1, 'really': 1, 'about': 1, 'same,\\n': 1, 'both': 1, 'morning': 1, 'equally': 1, 'lay\\n': 1, 'In': 1, 'leaves': 1, 'no': 1, 'step': 1, 'had': 1, 'trodden': 1, 'black.\\n': 1, 'Oh,': 1, 'kept': 1, 'first': 1, 'another': 1, 'day!\\n': 1, 'Yet': 1, 'knowing': 1, 'how': 1, 'way': 1, 'leads': 1, 'on': 1, 'to': 1, 'way,\\n': 1, 'doubted': 1, 'if': 1, 'should': 1, 'ever': 1, 'come': 1, 'back.\\n': 1, 'shall': 1, 'telling': 1, 'this': 1, 'with': 1, 'sigh\\n': 1, 'Somewhere': 1, 'ages': 2, 'hence:\\n': 1, 'wood,': 1, 'I—\\n': 1, 'less': 1, 'traveled': 1, 'by,\\n': 1, 'has': 1, 'made': 1, 'all': 1, 'difference.': 1}\n",
      "Max occurace of words  8\n",
      "Min occurace of words  1\n",
      "\n",
      " word with max repeat\n",
      "I 8\n",
      "the 8\n"
     ]
    }
   ],
   "source": [
    "\"\"\"poem.txt contains famous poem \"Road not taken\" by poet Robert Frost.\n",
    "You have to read this file in your python program and find out words with maximum occurance.\"\"\"\n",
    "word_stats ={}\n",
    "with open(\"poem.txt\",\"r\") as poem:\n",
    "    for line in poem:\n",
    "        #print(line,end='')\n",
    "        words =line.split(\" \")\n",
    "        for word in words:\n",
    "            if word in word_stats:\n",
    "                word_stats[word]+=1\n",
    "            else:\n",
    "                word_stats[word]=1\n",
    "\n",
    "print(\"\\n \\n Every word with unique number: \\n \")\n",
    "print(word_stats)\n",
    "      \n",
    "word_repeat = list(word_stats.values())\n",
    "value_max =max(word_repeat)\n",
    "value_min = min(word_repeat)\n",
    "\n",
    "print(\"Max occurace of words \",value_max)\n",
    "print(\"Min occurace of words \",value_min)\n",
    "print(\"\\n word with max repeat\")\n",
    "for word,count in word_stats.items():\n",
    "    if count == value_max:\n",
    "        print(word,value_max)\n",
    "\n"
   ]
  }
 ],
 "metadata": {
  "kernelspec": {
   "display_name": "base",
   "language": "python",
   "name": "python3"
  },
  "language_info": {
   "codemirror_mode": {
    "name": "ipython",
    "version": 3
   },
   "file_extension": ".py",
   "mimetype": "text/x-python",
   "name": "python",
   "nbconvert_exporter": "python",
   "pygments_lexer": "ipython3",
   "version": "3.12.7"
  }
 },
 "nbformat": 4,
 "nbformat_minor": 5
}
