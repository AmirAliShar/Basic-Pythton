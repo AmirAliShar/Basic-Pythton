{
 "cells": [
  {
   "cell_type": "markdown",
   "id": "e138a403",
   "metadata": {},
   "source": [
    "**It is a way to create a sequence of values on the fly without storing them in memory.**  \n",
    "**it is a simple way to create the iterator**"
   ]
  },
  {
   "cell_type": "code",
   "execution_count": 4,
   "id": "b8e5cc7d",
   "metadata": {},
   "outputs": [
    {
     "name": "stdout",
     "output_type": "stream",
     "text": [
      "1 2 3 4 5 6 7 8 9 10 "
     ]
    }
   ],
   "source": [
    "def generator_next():\n",
    "    for i in range(1,11):\n",
    "        yield i\n",
    "for c in generator_next():\n",
    "    print(c,end=\" \")\n"
   ]
  },
  {
   "cell_type": "code",
   "execution_count": null,
   "id": "57c06c9b",
   "metadata": {},
   "outputs": [
    {
     "name": "stdout",
     "output_type": "stream",
     "text": [
      "this is my first file\n",
      " this is my second line\n",
      " this is my third line\n",
      " I love python\n",
      " I love ML\n",
      " I love AI\n",
      " "
     ]
    }
   ],
   "source": [
    "#write the code to open the file and read the content\n",
    "def read_file():\n",
    "    with open(\"filehandlingdemo\",\"r+\") as f:\n",
    "        for i in f:\n",
    "            yield i\n",
    "for c in read_file():\n",
    "    print(c,end=\" \")"
   ]
  },
  {
   "cell_type": "code",
   "execution_count": null,
   "id": "c4ef9ff3",
   "metadata": {},
   "outputs": [
    {
     "name": "stdout",
     "output_type": "stream",
     "text": [
      "0 1 1 2 3 5 8 13 21 34 55 89 "
     ]
    }
   ],
   "source": [
    "def fib():\n",
    "    a,b= 0,1\n",
    "    while True:\n",
    "        yield a\n",
    "        a,b=b ,a+b\n",
    "for f in fib():\n",
    "    if f> 100:\n",
    "        break\n",
    "    print(f,end=\" \")"
   ]
  },
  {
   "cell_type": "code",
   "execution_count": 16,
   "id": "866f8d66",
   "metadata": {},
   "outputs": [
    {
     "name": "stdout",
     "output_type": "stream",
     "text": [
      "0 1 1 2 3 5 8 13 21 34 "
     ]
    }
   ],
   "source": [
    "#Write the code to generate the fibonaci series without the help of the generator\n",
    "def fib(n):\n",
    "    a,b = 0,1\n",
    "    for _ in range(n):\n",
    "        print(a,end=\" \")\n",
    "        a,b = b,a+b\n",
    "\n",
    "fib(10)\n",
    "\n"
   ]
  },
  {
   "cell_type": "code",
   "execution_count": 10,
   "id": "351fc573",
   "metadata": {},
   "outputs": [
    {
     "name": "stdout",
     "output_type": "stream",
     "text": [
      "1 4 9 16 25 "
     ]
    }
   ],
   "source": [
    "def square ():\n",
    "    i=1\n",
    "    while True:\n",
    "        yield i*i\n",
    "        i+=1\n",
    "for sq in square():\n",
    "    if sq>30:\n",
    "        break\n",
    "    else:\n",
    "        print(sq,end=' ')\n"
   ]
  }
 ],
 "metadata": {
  "kernelspec": {
   "display_name": "base",
   "language": "python",
   "name": "python3"
  },
  "language_info": {
   "codemirror_mode": {
    "name": "ipython",
    "version": 3
   },
   "file_extension": ".py",
   "mimetype": "text/x-python",
   "name": "python",
   "nbconvert_exporter": "python",
   "pygments_lexer": "ipython3",
   "version": "3.12.7"
  }
 },
 "nbformat": 4,
 "nbformat_minor": 5
}
