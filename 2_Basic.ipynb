{
 "cells": [
  {
   "cell_type": "markdown",
   "id": "14b42f41",
   "metadata": {},
   "source": [
    "# Lists, Dictionaries, Sets, Tuples "
   ]
  },
  {
   "cell_type": "code",
   "execution_count": null,
   "id": "a29f27b9",
   "metadata": {},
   "outputs": [
    {
     "name": "stdout",
     "output_type": "stream",
     "text": [
      "amir\n"
     ]
    }
   ],
   "source": [
    "a=\"amir\"\n",
    "\n",
    "print(a)"
   ]
  },
  {
   "cell_type": "code",
   "execution_count": 1,
   "id": "ed63bcfa",
   "metadata": {},
   "outputs": [
    {
     "name": "stdout",
     "output_type": "stream",
     "text": [
      "[1, 2, 3, 4, 5, 6, 7, 8, 9, 10, 3, 3]\n",
      "{1, 2, 3, 4, 5, 6, 7, 8, 9, 10}\n",
      "(1, 2, 3, 4, 5, 6, 7, 8, 9, 10, 3, 3)\n"
     ]
    }
   ],
   "source": [
    "l = [1,2,3,4,5,6,7,8,9,10,3,3]\n",
    "print(l)\n",
    "s = {1,2,3,4,5,6,7,8,9,10,3,3} #dO NOT DUPLICATE ALLOW\n",
    "print(s)\n",
    "\n",
    "t= (1,2,3,4,5,6,7,8,9,10,3,3) # DUPLICATE ALLOW\n",
    "print(t)\n"
   ]
  },
  {
   "cell_type": "code",
   "execution_count": 2,
   "id": "549f11c6",
   "metadata": {},
   "outputs": [
    {
     "name": "stdout",
     "output_type": "stream",
     "text": [
      "0.92\n",
      "[0.92, 0.85, 0.76, 0.88]\n"
     ]
    }
   ],
   "source": [
    "# Example: Model predictions (probabilities)\n",
    "predictions = [0.92, 0.85, 0.76]\n",
    "\n",
    "# Accessing predictions\n",
    "print(predictions[0])  # Output: 0.92\n",
    "\n",
    "# Adding a new prediction\n",
    "predictions.append(0.88)\n",
    "print(predictions)  # [0.92, 0.85, 0.76, 0.88]\n"
   ]
  },
  {
   "cell_type": "code",
   "execution_count": 4,
   "id": "1328a73b",
   "metadata": {},
   "outputs": [
    {
     "ename": "AttributeError",
     "evalue": "'frozenset' object has no attribute 'add'",
     "output_type": "error",
     "traceback": [
      "\u001b[1;31m---------------------------------------------------------------------------\u001b[0m",
      "\u001b[1;31mAttributeError\u001b[0m                            Traceback (most recent call last)",
      "Cell \u001b[1;32mIn[4], line 4\u001b[0m\n\u001b[0;32m      1\u001b[0m \u001b[38;5;66;03m#Set vs frozen set\u001b[39;00m\n\u001b[0;32m      2\u001b[0m \u001b[38;5;66;03m# The set is mutable, while the frozenset is immutable(it does not allow to change the content or data).\u001b[39;00m\n\u001b[0;32m      3\u001b[0m froze\u001b[38;5;241m=\u001b[39m \u001b[38;5;28mfrozenset\u001b[39m([\u001b[38;5;241m1\u001b[39m,\u001b[38;5;241m2\u001b[39m,\u001b[38;5;241m3\u001b[39m,\u001b[38;5;241m4\u001b[39m,\u001b[38;5;241m5\u001b[39m,\u001b[38;5;241m6\u001b[39m,\u001b[38;5;241m7\u001b[39m,\u001b[38;5;241m8\u001b[39m,\u001b[38;5;241m9\u001b[39m,\u001b[38;5;241m10\u001b[39m,\u001b[38;5;241m3\u001b[39m,\u001b[38;5;241m3\u001b[39m])\n\u001b[1;32m----> 4\u001b[0m froze\u001b[38;5;241m.\u001b[39madd([\u001b[38;5;241m100\u001b[39m])\n",
      "\u001b[1;31mAttributeError\u001b[0m: 'frozenset' object has no attribute 'add'"
     ]
    }
   ],
   "source": [
    "#Set vs frozen set\n",
    "# The set is mutable, while the frozenset is immutable(it does not allow to change the content or data).\n",
    "froze= frozenset([1,2,3,4,5,6,7,8,9,10,3,3])\n",
    "froze.add([100])"
   ]
  },
  {
   "cell_type": "code",
   "execution_count": 8,
   "id": "784fd2f2",
   "metadata": {},
   "outputs": [
    {
     "name": "stdout",
     "output_type": "stream",
     "text": [
      "Activation function: relu\n"
     ]
    }
   ],
   "source": [
    "# Example: A model hyperparameter configuration\n",
    "config = ('relu', 0.01, 32)  # (activation, learning_rate, batch_size)\n",
    "\n",
    "# Accessing values\n",
    "activation = config[0]\n",
    "print(\"Activation function:\", activation)\n",
    "\n",
    "# config[1] = 0.02  ❌ Not allowed, Tuples are immutable\n"
   ]
  },
  {
   "cell_type": "code",
   "execution_count": 9,
   "id": "7c75a711",
   "metadata": {},
   "outputs": [
    {
     "name": "stdout",
     "output_type": "stream",
     "text": [
      "{'cat', 'bird', 'dog'}\n"
     ]
    }
   ],
   "source": [
    "# Example: Unique classes from labels\n",
    "labels = ['cat', 'dog', 'cat', 'bird']\n",
    "unique_labels = set(labels)\n",
    "\n",
    "print(unique_labels)  # Output: {'cat', 'bird', 'dog'}\n"
   ]
  },
  {
   "cell_type": "code",
   "execution_count": 10,
   "id": "5c93024a",
   "metadata": {},
   "outputs": [
    {
     "name": "stdout",
     "output_type": "stream",
     "text": [
      "1\n",
      "{'cat': 0, 'dog': 1, 'bird': 2, 'fish': 3}\n"
     ]
    }
   ],
   "source": [
    "# Example: Label encoding\n",
    "label_map = {'cat': 0, 'dog': 1, 'bird': 2}\n",
    "\n",
    "# Access encoded value\n",
    "print(label_map['dog'])  # Output: 1\n",
    "\n",
    "# Add a new class\n",
    "label_map['fish'] = 3\n",
    "print(label_map)  # {'cat': 0, 'dog': 1, 'bird': 2, 'fish': 3}\n"
   ]
  },
  {
   "cell_type": "code",
   "execution_count": null,
   "id": "384ecafe",
   "metadata": {},
   "outputs": [
    {
     "name": "stdout",
     "output_type": "stream",
     "text": [
      "{2, 3, 4, 5}\n",
      "{1, 2, 3, 4, 5}\n",
      "{1, 2, 3, 4, 5, 8}\n",
      "unsupported operand type(s) for &: 'list' and 'list'\n"
     ]
    }
   ],
   "source": [
    "a = [1,2,3,4,5,3,4]\n",
    "b = [3,2,3,5,3,4,8]\n",
    "\n",
    "print(set(a) & set(b))\n",
    "\n",
    "print(set(a) or set(b)) # Here print either a or b \n",
    "\n",
    "print(set(a) | set(b)) # Here print to unique value\n",
    "try:\n",
    "   print(a & b)\n",
    "except Exception as e:\n",
    "       print(e)"
   ]
  },
  {
   "cell_type": "markdown",
   "id": "6fac1e04",
   "metadata": {},
   "source": [
    "# Condiotnal Statement"
   ]
  },
  {
   "cell_type": "code",
   "execution_count": 11,
   "id": "9b31edfb",
   "metadata": {},
   "outputs": [
    {
     "name": "stdout",
     "output_type": "stream",
     "text": [
      "Good model!\n"
     ]
    }
   ],
   "source": [
    "accuracy = 0.87\n",
    "\n",
    "if accuracy >= 0.9:\n",
    "    print(\"Excellent model!\")\n",
    "elif accuracy >= 0.8:\n",
    "    print(\"Good model!\")\n",
    "else:\n",
    "    print(\"Needs improvement.\")\n",
    "# Output: Good model!\n"
   ]
  },
  {
   "cell_type": "markdown",
   "id": "647e35c3",
   "metadata": {},
   "source": [
    "# Lops"
   ]
  },
  {
   "cell_type": "code",
   "execution_count": 1,
   "id": "5a0c5a62",
   "metadata": {},
   "outputs": [
    {
     "name": "stdout",
     "output_type": "stream",
     "text": [
      "21\n"
     ]
    }
   ],
   "source": [
    "li= [1,1,2,3,4,5,5]\n",
    "\n",
    "total = 0\n",
    "for i in li:\n",
    "    total+=i\n",
    "    \n",
    "print(total)"
   ]
  },
  {
   "cell_type": "code",
   "execution_count": 12,
   "id": "49c227d1",
   "metadata": {},
   "outputs": [
    {
     "name": "stdout",
     "output_type": "stream",
     "text": [
      "[1][1, 2][1, 2, 3][1, 2, 3, 4]\n",
      "\n",
      "[1, 2, 3, 4]"
     ]
    }
   ],
   "source": [
    "# Append the number in a list\n",
    "l=[]\n",
    "\n",
    "for i in range(1,5):\n",
    "    l.append(i)\n",
    "    print(l,end=\"\")\n",
    "print(\"\\n\")\n",
    "print(l,end=\"\")\n"
   ]
  },
  {
   "cell_type": "code",
   "execution_count": 27,
   "id": "f4295871",
   "metadata": {},
   "outputs": [
    {
     "name": "stdout",
     "output_type": "stream",
     "text": [
      "Month 1 Salary:  121\n",
      "Month 2 Salary:  242\n",
      "Month 3 Salary:  363\n",
      "Month 4 Salary:  433\n",
      "Month 5 Salary:  444\n",
      "Month 6 Salary:  565\n",
      "total  2168\n"
     ]
    }
   ],
   "source": [
    "lists =[121,242,363,433,444,565]\n",
    "total =0\n",
    "for i in range(len(lists)):\n",
    "    total +=lists[i]\n",
    "    print(\"Month\",(i+1),\"Salary: \",(lists[i]))\n",
    "print(\"total \",total)\n"
   ]
  },
  {
   "cell_type": "code",
   "execution_count": 15,
   "id": "230fcffe",
   "metadata": {},
   "outputs": [
    {
     "name": "stdout",
     "output_type": "stream",
     "text": [
      "('cat', 0)\n",
      "('dog', 1)\n",
      "('bird', 2)\n"
     ]
    }
   ],
   "source": [
    "label_map = {'cat': 0, 'dog': 1, 'bird': 2}\n",
    "\n",
    "for  index in label_map.items():\n",
    "    print( index)\n"
   ]
  },
  {
   "cell_type": "code",
   "execution_count": null,
   "id": "61c4eb48",
   "metadata": {},
   "outputs": [
    {
     "name": "stdout",
     "output_type": "stream",
     "text": [
      "[0.92, 0.81]\n"
     ]
    }
   ],
   "source": [
    "# Example: Filter predictions above threshold\n",
    "predictions = [0.65, 0.92, 0.81, 0.73]\n",
    "high_conf = [p for p in predictions if p > 0.8]\n",
    "print(high_conf)  "
   ]
  },
  {
   "cell_type": "code",
   "execution_count": 21,
   "id": "76161bff",
   "metadata": {},
   "outputs": [
    {
     "name": "stdout",
     "output_type": "stream",
     "text": [
      "  Name  Score Label\n",
      "0    A   0.76   Low\n",
      "1    B   0.85  High\n",
      "2    C   0.66   Low\n"
     ]
    }
   ],
   "source": [
    "import pandas as pd\n",
    "\n",
    "df = pd.DataFrame({\n",
    "    'Name': ['A', 'B', 'C'],\n",
    "    'Score': [0.76, 0.85, 0.66]\n",
    "})\n",
    "\n",
    "# Add a new column based on condition\n",
    "df['Label'] = ['High' if x > 0.8 else 'Low' for x in df['Score']]\n",
    "print(df)\n"
   ]
  },
  {
   "cell_type": "code",
   "execution_count": null,
   "id": "3d4363b6",
   "metadata": {},
   "outputs": [
    {
     "name": "stdout",
     "output_type": "stream",
     "text": [
      "['Low' 'High' 'High']\n"
     ]
    }
   ],
   "source": [
    "import numpy as np\n",
    "\n",
    "scores = np.array([0.6, 0.85, 0.91])\n",
    "\n",
    "# Vectorized condition\n",
    "labels = np.where(scores > 0.8, 'High', 'Low')\n",
    "print(labels)\n"
   ]
  },
  {
   "cell_type": "code",
   "execution_count": 1,
   "id": "55542694",
   "metadata": {},
   "outputs": [
    {
     "name": "stdout",
     "output_type": "stream",
     "text": [
      "  Name  Score Label\n",
      "0    A   0.76   Low\n",
      "1    B   0.85  High\n",
      "2    C   0.66   Low\n"
     ]
    }
   ],
   "source": [
    "import pandas as pd\n",
    "\n",
    "df = pd.DataFrame({\n",
    "    'Name': ['A', 'B', 'C'],\n",
    "    'Score': [0.76, 0.85, 0.66]\n",
    "})\n",
    "\n",
    "# Add a new column based on condition\n",
    "df['Label'] = ['High' if x > 0.8 else 'Low' for x in df['Score']]\n",
    "print(df)\n"
   ]
  }
 ],
 "metadata": {
  "kernelspec": {
   "display_name": "base",
   "language": "python",
   "name": "python3"
  },
  "language_info": {
   "codemirror_mode": {
    "name": "ipython",
    "version": 3
   },
   "file_extension": ".py",
   "mimetype": "text/x-python",
   "name": "python",
   "nbconvert_exporter": "python",
   "pygments_lexer": "ipython3",
   "version": "3.12.7"
  }
 },
 "nbformat": 4,
 "nbformat_minor": 5
}
