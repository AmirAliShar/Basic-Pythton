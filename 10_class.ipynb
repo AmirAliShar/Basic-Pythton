{
 "cells": [
  {
   "cell_type": "markdown",
   "metadata": {},
   "source": [
    "**There are two types of classes in python**  \n",
    "**BuildIn --> list,tuple,dict**  \n",
    "**Userdefined --> Which we make it**"
   ]
  },
  {
   "cell_type": "code",
   "execution_count": null,
   "metadata": {},
   "outputs": [],
   "source": [
    "class Atm:\n",
    "    #Constructor (All the variable defined here are instance variable)--> Do not need the execute this because it automatically exectute\n",
    "    # Magic method --> __name___ (all are the magic method) \n",
    "    # If do not control to give the user then we write it into contructor \n",
    "    def __init__(self):  \n",
    "        self.balance =0\n",
    "        self.pin = \" \"\n",
    "        self.menu()\n",
    "\n",
    "\n",
    "    def menu(self): # Self is the object (It is not necessary we written insted of other name)\n",
    "        user_input = input(\"\"\"\n",
    "        1.Create pin \\n\n",
    "        2. Withdraw \\n\n",
    "        3. Deposit\\n\n",
    "        4. Check Balance \\n\n",
    "        5. Exit\n",
    "        \"\"\")\n",
    "\n",
    "\n",
    "        if user_input == \"1\":\n",
    "            self.create_pin() #call the function\n",
    "        elif user_input == \"2\":\n",
    "            self.withdraw()\n",
    "        elif user_input == \"3\":\n",
    "            self.deposit()\n",
    "        elif user_input == \"4\":\n",
    "            self.check_balance()\n",
    "        elif user_input == \"E\".lower() or user_input == \"EXIST\".lower():\n",
    "            exit()\n",
    "            \n",
    "        \n",
    "\n",
    "    def create_pin(self):\n",
    "            user_pin = input(\"Enter your pin\")\n",
    "            self.pin =user_pin\n",
    "\n",
    "            user_balance = int(input(\"Enter balance\"))\n",
    "            self.balance = user_balance\n",
    "            print(\"Pin set successfully\")\n",
    "            self.menu()\n",
    "\n",
    "    def withdraw(self):\n",
    "        user_withdraw =int(input(\"Enter the amount you want to withdraw\"))\n",
    "\n",
    "        if user_withdraw <= self.balance:\n",
    "            self.balance = self.balance - user_withdraw\n",
    "            print(\"Withdrawal successful\")\n",
    "            self.menu()\n",
    "        else:\n",
    "            print(\"Insufficient balance\")\n",
    "            self.menu()\n",
    "\n",
    "    def deposit(self):\n",
    "        user_deposit = int(input(\"Enter the amount you want to deposit\"))\n",
    "        self.balance = self.balance + user_deposit\n",
    "        print(\"Deposit successful\")\n",
    "        self.menu()\n",
    "    \n",
    "    def check_balance(self):\n",
    "        user_pin = input(\"Enter your pin\")\n",
    "        if user_pin == self.pin:\n",
    "            print(\"Your balance is\",self.balance)\n",
    "        else:\n",
    "            print(\"Invalid pin\")\n",
    "            self.menu()\n",
    "            "
   ]
  },
  {
   "cell_type": "code",
   "execution_count": null,
   "metadata": {},
   "outputs": [
    {
     "name": "stdout",
     "output_type": "stream",
     "text": [
      "Pin set successfully\n",
      "Withdrawal successful\n"
     ]
    }
   ],
   "source": [
    "obj = Atm() #object only acccess the all data of class "
   ]
  },
  {
   "cell_type": "markdown",
   "metadata": {},
   "source": [
    "# Paramatirized constructor"
   ]
  },
  {
   "cell_type": "code",
   "execution_count": 14,
   "metadata": {},
   "outputs": [],
   "source": [
    "class Fraction:\n",
    "    def __init__(self,x,y):\n",
    "        self.x=x\n",
    "        self.y=y\n",
    "        print(self.x/self.y)\n"
   ]
  },
  {
   "cell_type": "code",
   "execution_count": 18,
   "metadata": {},
   "outputs": [
    {
     "name": "stdout",
     "output_type": "stream",
     "text": [
      "4.03030303030303\n"
     ]
    }
   ],
   "source": [
    "Obj1 = Fraction(133,33)"
   ]
  },
  {
   "cell_type": "code",
   "execution_count": 31,
   "metadata": {},
   "outputs": [],
   "source": [
    "class Game:\n",
    "\n",
    "    def __init__(self, name, score):\n",
    "        self.name = name\n",
    "        self.score = score\n",
    "\n",
    "    def introduce(self):\n",
    "        if self.name.lower() ==\"amir ali\":\n",
    "            print(\"Hello, my name is\", self.name)\n",
    "            if self.score == 100:\n",
    "                print(\"I have a perfect score\",self.score\n",
    "                      )\n",
    "            else:\n",
    "                print(\"I don't have a perfect score\")\n",
    "        "
   ]
  },
  {
   "cell_type": "code",
   "execution_count": 32,
   "metadata": {},
   "outputs": [
    {
     "name": "stdout",
     "output_type": "stream",
     "text": [
      "Hello, my name is Amir Ali\n",
      "I have a perfect score 100\n"
     ]
    }
   ],
   "source": [
    "game =Game(\"Amir Ali\",100)\n",
    "game.introduce()\n"
   ]
  },
  {
   "cell_type": "code",
   "execution_count": null,
   "metadata": {},
   "outputs": [],
   "source": [
    "class Project:\n",
    "    def __init__(self, n, o):  \n",
    "        self.name = n\n",
    "        self.occupation = o\n",
    "        \n",
    "        self.do_work() #Now do not need to call the function\n",
    "\n",
    "    def do_work(self):\n",
    "\n",
    "        if self.occupation == \"Student\":\n",
    "            print(f'are you  a university student {self.name}')  \n",
    "\n",
    "        elif self.occupation == \"Player\":\n",
    "            print(f\"{self.name} is a cricket player \")  \n",
    "\n",
    "        else:\n",
    "            print(\"None of the above\")\n",
    "\n",
    "    def language(self):\n",
    "        print(f\"How are you! {self.name}\") "
   ]
  },
  {
   "cell_type": "code",
   "execution_count": 35,
   "metadata": {},
   "outputs": [
    {
     "name": "stdout",
     "output_type": "stream",
     "text": [
      "are you  a university student Amir Ali\n"
     ]
    }
   ],
   "source": [
    "#Create the instances\n",
    "tom = Project(\"Amir Ali\",\"Student\")\n",
    "# tom.language()\n",
    "# tom.do_work()"
   ]
  }
 ],
 "metadata": {
  "kernelspec": {
   "display_name": "base",
   "language": "python",
   "name": "python3"
  },
  "language_info": {
   "codemirror_mode": {
    "name": "ipython",
    "version": 3
   },
   "file_extension": ".py",
   "mimetype": "text/x-python",
   "name": "python",
   "nbconvert_exporter": "python",
   "pygments_lexer": "ipython3",
   "version": "3.12.7"
  }
 },
 "nbformat": 4,
 "nbformat_minor": 2
}
